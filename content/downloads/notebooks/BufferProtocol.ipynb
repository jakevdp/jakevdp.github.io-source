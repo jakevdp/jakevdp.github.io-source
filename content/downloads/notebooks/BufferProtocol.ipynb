{
 "cells": [
  {
   "cell_type": "markdown",
   "metadata": {},
   "source": [
    "# Introduction to the CPython Buffer Protocol"
   ]
  },
  {
   "cell_type": "markdown",
   "metadata": {},
   "source": [
    "*This notebook originally appeared as a blog post by Jake VanderPlas on [Pythonic Perambulations](http://jakevdp.github.io). The content is BSD-licensed.*"
   ]
  },
  {
   "cell_type": "markdown",
   "metadata": {},
   "source": [
    "<!-- PELICAN_BEGIN_SUMMARY -->\n",
    "\n",
    "This is a bit of a niche topic, but I figured there might be one or two people out there who would find this useful (including my future self)... today I managed to implement a simple Python object which exposes the buffer protocol. If that means nothing to you, you may want to stop reading and instead browse this [gallery of puppy gifs](http://imgur.com/gallery/zWeJ5).\n",
    "\n",
    "But if you're the kind of person who becomes mildly excited at the words *Python buffer protocol*, I hope this short post will help you in your quest...\n",
    "\n",
    "<!-- PELICAN_END_SUMMARY -->"
   ]
  },
  {
   "cell_type": "markdown",
   "metadata": {},
   "source": [
    "## What is the Python Buffer Protocol?"
   ]
  },
  {
   "cell_type": "markdown",
   "metadata": {},
   "source": [
    "The Python buffer protocol, also known in the community as [PEP 3118](http://legacy.python.org/dev/peps/pep-3118/), is a framework in which Python objects can expose raw byte arrays to other Python objects. This can be extremely useful for scientific computing, where we often use packages such as [NumPy](http://numpy.org) to efficiently store and manipulate large arrays of data. Using the buffer protocol, we can let multiple objects efficiently manipulate views of the same data buffers, without having to make copies of the often large datasets.\n",
    "\n",
    "Here, for example, we'll use Python's built-in ``array`` object to create an array:"
   ]
  },
  {
   "cell_type": "code",
   "execution_count": 1,
   "metadata": {
    "collapsed": false
   },
   "outputs": [
    {
     "data": {
      "text/plain": [
       "array('i', [0, 1, 2, 3, 4, 5, 6, 7, 8, 9])"
      ]
     },
     "execution_count": 1,
     "metadata": {},
     "output_type": "execute_result"
    }
   ],
   "source": [
    "import array\n",
    "A = array.array('i', range(10))\n",
    "A"
   ]
  },
  {
   "cell_type": "markdown",
   "metadata": {},
   "source": [
    "Note that the array object is different than a Python list, in that it stores the data as **a contiguous block** of integers. For this reason, the data are stored much more compactly than a list, and certain operations can be performed much more quickly.\n",
    "\n",
    "``array`` objects by themselves are not particularly useful, but a similar type of object can be found in the ``numpy`` array.  Because both Python's ``array`` and NumPy's ``ndarray`` objects implement the buffer protocol, it's possible to seamlessly pass data between them using views – that is, without the need to copy the raw data:"
   ]
  },
  {
   "cell_type": "code",
   "execution_count": 2,
   "metadata": {
    "collapsed": false
   },
   "outputs": [
    {
     "data": {
      "text/plain": [
       "array([0, 1, 2, 3, 4, 5, 6, 7, 8, 9], dtype=int32)"
      ]
     },
     "execution_count": 2,
     "metadata": {},
     "output_type": "execute_result"
    }
   ],
   "source": [
    "import numpy as np\n",
    "np_A = np.asarray(A)\n",
    "np_A"
   ]
  },
  {
   "cell_type": "markdown",
   "metadata": {},
   "source": [
    "We can confirm that this is a view of the same buffer by modifying the numpy array: we'll set one of the elements to 555..."
   ]
  },
  {
   "cell_type": "code",
   "execution_count": 3,
   "metadata": {
    "collapsed": false
   },
   "outputs": [
    {
     "data": {
      "text/plain": [
       "array([  0,   1,   2,   3, 555,   5,   6,   7,   8,   9], dtype=int32)"
      ]
     },
     "execution_count": 3,
     "metadata": {},
     "output_type": "execute_result"
    }
   ],
   "source": [
    "np_A[4] = 555\n",
    "np_A"
   ]
  },
  {
   "cell_type": "markdown",
   "metadata": {},
   "source": [
    "...and once this is done we see that the original array has been modified as well:"
   ]
  },
  {
   "cell_type": "code",
   "execution_count": 4,
   "metadata": {
    "collapsed": false
   },
   "outputs": [
    {
     "data": {
      "text/plain": [
       "array('i', [0, 1, 2, 3, 555, 5, 6, 7, 8, 9])"
      ]
     },
     "execution_count": 4,
     "metadata": {},
     "output_type": "execute_result"
    }
   ],
   "source": [
    "A"
   ]
  },
  {
   "cell_type": "markdown",
   "metadata": {},
   "source": [
    "This shows that both ``A`` and ``np_A`` are pointing to the same block of data, and it required nothing special on our part to make that happen!  That's the beauty of the buffer protocol."
   ]
  },
  {
   "cell_type": "markdown",
   "metadata": {},
   "source": [
    "## Why Is This Useful?"
   ]
  },
  {
   "cell_type": "markdown",
   "metadata": {},
   "source": [
    "At first glance, this might seem rather trivial. Why is this so useful?\n",
    "\n",
    "Well, in scientific computing, most of the interesting algorithms are implemented in compiled code: for example, [scipy](http://scipy.org) is essentially a set of wrappers around [NetLib](http://www.netlib.org/) utilities, which are well-tested implementations of scientific algorithms written mostly in Fortran and C. The ability for Python to natively share data with these compiled libraries is incredibly important for scientific computing. This is one big reason that NumPy and its predecessors were initially developed, and it's why the buffer protocol was later proposed and added to Python's standard library. The buffer protocol is extremely useful for what scientists do with Python: build intuitive interfaces to compiled legacy code.\n",
    "\n",
    "With apologies to the [PyPy](http://pypy.org/) project's extremely active community, I should also mention that this is one of the main reasons that scientists don't really pay much attention to it: until PyPy can easily interface to all the C and Fortran code we use on a daily basis, all its JIT-ed performance gain is of very little use to us.\n",
    "\n",
    "This cannot be emphasized enough: **it is fundamentally the Buffer Protocol and related NumPy functionality that make Python useful as a scientific computing platform.**"
   ]
  },
  {
   "cell_type": "markdown",
   "metadata": {},
   "source": [
    "## Implementing a Custom Buffer Interface"
   ]
  },
  {
   "cell_type": "markdown",
   "metadata": {},
   "source": [
    "Fortunately, most scientists can simply use the buffer protocol via tools like NumPy without knowing too much of the details of what's behind it. Because the buffer protocol is fundamentally a C-API entity, implementing new functionality with it generally requires digging into the guts of Python's C API. For example, the code that enables the above numpy example is found in NumPy's [buffer.c](https://github.com/numpy/numpy/blob/master/numpy/core/src/multiarray/buffer.c) file, and reading through it is not particularly enlightening. This is the power of Python in a nutshell: it abstracts away C-level messiness like this and instead gives us the nice, powerful, and clean Python interface we all know and love.\n",
    "\n",
    "But sometimes you need to get your hands dirty. Imagine, for instance, that you have a C object that you'd like to wrap and make available to Python.  Your first course might be to use something like [f2py](http://wiki.scipy.org/Cookbook/F2Py), [cython](http://cython.org), or [SWIG](http://www.swig.org/) to do this: I'd definitely recommend these tools for most problems of this nature.\n",
    "\n",
    "But you may, for various reasons, want to go even deeper and implement the buffer protocol directly. (For example, you may be interested in taking data structures from another language, such as Julia, and exposing them to Python in a flexible manner). Below I'll give you an example of how to do this."
   ]
  },
  {
   "cell_type": "markdown",
   "metadata": {},
   "source": [
    "### Preliminaries"
   ]
  },
  {
   "cell_type": "markdown",
   "metadata": {},
   "source": [
    "Before you go on, you should know that this topic is fairly advanced as far as Python tutorials go, and requires more background knowledge than the average Python hacker probably has.  To get started, I'd take a look at the following resources:\n",
    "\n",
    "- [Python Modules in C](https://dfm.io/posts/python-c-extensions/): a tutorial by Dan Foreman-Mackey. This is a great first intro to writing C-API code.\n",
    "- [Defining New Types](https://docs.python.org/3/extending/newtypes.html): an excellent tutorial from the official Python documentation. This goes through the basics of creating a type (a class) using C, which can then be visible in Python.\n",
    "\n",
    "If you get through these tutorials, the following links serve as a really handy reference on the Buffer Protocol itself:\n",
    "\n",
    "- [The Buffer Protocol](https://docs.python.org/3/c-api/buffer.html): Python's official documentation of the Buffer Protocol. I've found this to be a helpful reference, but I must admit that after staring at it for a couple hours I still had no idea where to start in actually *doing* anything. That's why I'm writing this post.\n",
    "- [PEP 3118](http://legacy.python.org/dev/peps/pep-3118/): the Python Enhancement Proposal (PEP) outlining the new buffer interface, introduced in Python 3.3.\n",
    "\n",
    "I should emphasize here that **I'll using the syntax of Python 3.3+**; it's possible to modify this to be compatible with older Python versions, but that requires some judicious use of C compiler directives (see the [NumPy buffer module](https://github.com/numpy/numpy/blob/master/numpy/core/src/multiarray/buffer.c) for an excellent example of this cross-version approach).  If you try to run this notebook under older Python versions, things will probably not go very well for you."
   ]
  },
  {
   "cell_type": "markdown",
   "metadata": {},
   "source": [
    "### Setting the Stage"
   ]
  },
  {
   "cell_type": "markdown",
   "metadata": {},
   "source": [
    "Let's imagine that we have a C library which creates a buffer of data that we're interested in wrapping.  For simplicity, we'll assume it can be boiled-down to the following structure. Notice throughout that we will use IPython's ``%%file`` magic to save the scripts we write to files, from which they will later be compiled:"
   ]
  },
  {
   "cell_type": "code",
   "execution_count": 5,
   "metadata": {
    "collapsed": false
   },
   "outputs": [
    {
     "name": "stdout",
     "output_type": "stream",
     "text": [
      "Overwriting mylib.c\n"
     ]
    }
   ],
   "source": [
    "%%file mylib.c\n",
    "#include <stdlib.h>\n",
    "#include <stdio.h>\n",
    "\n",
    "/* Structure defines a 1-dimensional strided array */\n",
    "typedef struct{\n",
    "    int* arr;\n",
    "    long length;\n",
    "} MyArray;\n",
    "\n",
    "/* initialize the array with integers 0...length */\n",
    "void initialize_MyArray(MyArray* a, long length){\n",
    "    a->length = length;\n",
    "    a->arr = (int*)malloc(length * sizeof(int));\n",
    "    for(int i=0; i<length; i++){\n",
    "        a->arr[i] = i;\n",
    "    }\n",
    "}\n",
    "\n",
    "/* free the memory when finished */\n",
    "void deallocate_MyArray(MyArray* a){\n",
    "    free(a->arr);\n",
    "    a->arr = NULL;\n",
    "}\n",
    "\n",
    "/* tools to print the array */\n",
    "char* stringify(MyArray* a, int nmax){\n",
    "    char* output = (char*) malloc(nmax * 20);\n",
    "    int pos = sprintf(&output[0], \"[\");\n",
    "\n",
    "    for (int k=0; k < a->length && k < nmax; k++){\n",
    "        pos += sprintf(&output[pos], \" %d\", a->arr[k]);\n",
    "    }\n",
    "    if(a->length > nmax)\n",
    "        pos += sprintf(&output[pos], \"...\");\n",
    "    sprintf(&output[pos], \" ]\");\n",
    "    return output;\n",
    "}\n",
    "\n",
    "void print_MyArray(MyArray* a, int nmax){\n",
    "    char* s = stringify(a, nmax);\n",
    "    printf(\"%s\", s);\n",
    "    free(s);\n",
    "}"
   ]
  },
  {
   "cell_type": "markdown",
   "metadata": {},
   "source": [
    "This code essentially defines a structure ``MyArray`` which contains information about an array of values, and we have functions to allocate, deallocate, and stringify the array.  This C code is overly simplistic; in real life there would be a lot more checks to prevent memory errors and other issues, but it will be a useful stand-in for our purposes.\n",
    "\n",
    "We can write a quick script to test these functionalities, and compile it using the ``g++`` compiler:"
   ]
  },
  {
   "cell_type": "code",
   "execution_count": 6,
   "metadata": {
    "collapsed": false
   },
   "outputs": [
    {
     "name": "stdout",
     "output_type": "stream",
     "text": [
      "Overwriting test_mylib.c\n"
     ]
    }
   ],
   "source": [
    "%%file test_mylib.c\n",
    "#include \"mylib.c\"\n",
    "\n",
    "int main(void){\n",
    "    MyArray a;\n",
    "    initialize_MyArray(&a, 10);\n",
    "    print_MyArray(&a, 10);\n",
    "    deallocate_MyArray(&a);\n",
    "}"
   ]
  },
  {
   "cell_type": "markdown",
   "metadata": {},
   "source": [
    "Now we'll compile it (using the ``g++`` compiler; you may have to modify this for your system):"
   ]
  },
  {
   "cell_type": "code",
   "execution_count": 7,
   "metadata": {
    "collapsed": false
   },
   "outputs": [],
   "source": [
    "!g++ test_mylib.c -o test_mylib"
   ]
  },
  {
   "cell_type": "markdown",
   "metadata": {},
   "source": [
    "And running the tests..."
   ]
  },
  {
   "cell_type": "code",
   "execution_count": 8,
   "metadata": {
    "collapsed": false
   },
   "outputs": [
    {
     "name": "stdout",
     "output_type": "stream",
     "text": [
      "[ 0 1 2 3 4 5 6 7 8 9 ]"
     ]
    }
   ],
   "source": [
    "!./test_mylib"
   ]
  },
  {
   "cell_type": "markdown",
   "metadata": {},
   "source": [
    "It worked! This basically creates an array similar to Python's ``range(10)``, but using Python's C API rather than Python itself (aren't you glad you use Python rather than C every day?)\n",
    "\n",
    "Our task now is to create a simple wrapper for this ``MyArray`` structure which exposes the buffer interface.  We'll basically follow the [Noddy](https://docs.python.org/3/extending/newtypes.html) example from the Python documentation, with a few little extra enhancements, and see how this looks.\n",
    "\n",
    "Let's start by ignoring the Buffer protocol entirely, and simply create a Python wrapper of the ``MyArray`` object:"
   ]
  },
  {
   "cell_type": "code",
   "execution_count": 9,
   "metadata": {
    "collapsed": false
   },
   "outputs": [
    {
     "name": "stdout",
     "output_type": "stream",
     "text": [
      "Overwriting pymyarray.c\n"
     ]
    }
   ],
   "source": [
    "%%file pymyarray.c\n",
    "#include <Python.h>\n",
    "#include \"mylib.c\"\n",
    "\n",
    "/* This is where we define the PyMyArray object structure */\n",
    "typedef struct {\n",
    "    PyObject_HEAD\n",
    "    /* Type-specific fields go below. */\n",
    "    MyArray arr;\n",
    "} PyMyArray;\n",
    "\n",
    "\n",
    "/* This is the __init__ function, implemented in C */\n",
    "static int\n",
    "PyMyArray_init(PyMyArray *self, PyObject *args, PyObject *kwds)\n",
    "{\n",
    "    // init may have already been called\n",
    "    if (self->arr.arr != NULL);\n",
    "        deallocate_MyArray(&self->arr);\n",
    "\n",
    "    int length = 0;\n",
    "    static char *kwlist[] = {\"length\", NULL};\n",
    "    if (! PyArg_ParseTupleAndKeywords(args, kwds, \"|i\", kwlist, &length))\n",
    "        return -1;\n",
    "\n",
    "    if (length < 0)\n",
    "        length = 0;\n",
    "\n",
    "    initialize_MyArray(&self->arr, length);\n",
    "\n",
    "    return 0;\n",
    "}\n",
    "\n",
    "\n",
    "/* this function is called when the object is deallocated */\n",
    "static void\n",
    "PyMyArray_dealloc(PyMyArray* self)\n",
    "{\n",
    "    deallocate_MyArray(&self->arr);\n",
    "    Py_TYPE(self)->tp_free((PyObject*)self);\n",
    "}\n",
    "\n",
    "\n",
    "/* This function returns the string representation of our object */\n",
    "static PyObject *\n",
    "PyMyArray_str(PyMyArray * self)\n",
    "{\n",
    "  char* s = stringify(&self->arr, 10);\n",
    "  PyObject* ret = PyUnicode_FromString(s);\n",
    "  free(s);\n",
    "  return ret;\n",
    "}\n",
    "\n",
    "/* Here is the type structure: we put the above functions in the appropriate place\n",
    "   in order to actually define the Python object type */\n",
    "static PyTypeObject PyMyArrayType = {\n",
    "    PyVarObject_HEAD_INIT(NULL, 0)\n",
    "    \"pymyarray.PyMyArray\",        /* tp_name */\n",
    "    sizeof(PyMyArray),            /* tp_basicsize */\n",
    "    0,                            /* tp_itemsize */\n",
    "    (destructor)PyMyArray_dealloc,/* tp_dealloc */\n",
    "    0,                            /* tp_print */\n",
    "    0,                            /* tp_getattr */\n",
    "    0,                            /* tp_setattr */\n",
    "    0,                            /* tp_reserved */\n",
    "    (reprfunc)PyMyArray_str,      /* tp_repr */\n",
    "    0,                            /* tp_as_number */\n",
    "    0,                            /* tp_as_sequence */\n",
    "    0,                            /* tp_as_mapping */\n",
    "    0,                            /* tp_hash  */\n",
    "    0,                            /* tp_call */\n",
    "    (reprfunc)PyMyArray_str,      /* tp_str */\n",
    "    0,                            /* tp_getattro */\n",
    "    0,                            /* tp_setattro */\n",
    "    0,                            /* tp_as_buffer */\n",
    "    Py_TPFLAGS_DEFAULT,           /* tp_flags */\n",
    "    \"PyMyArray object\",           /* tp_doc */\n",
    "    0,                            /* tp_traverse */\n",
    "    0,                            /* tp_clear */\n",
    "    0,                            /* tp_richcompare */\n",
    "    0,                            /* tp_weaklistoffset */\n",
    "    0,                            /* tp_iter */\n",
    "    0,                            /* tp_iternext */\n",
    "    0,                            /* tp_methods */\n",
    "    0,                            /* tp_members */\n",
    "    0,                            /* tp_getset */\n",
    "    0,                            /* tp_base */\n",
    "    0,                            /* tp_dict */\n",
    "    0,                            /* tp_descr_get */\n",
    "    0,                            /* tp_descr_set */\n",
    "    0,                            /* tp_dictoffset */\n",
    "    (initproc)PyMyArray_init,     /* tp_init */\n",
    "};\n",
    "\n",
    "/* now we initialize the Python module which contains our new object: */\n",
    "static PyModuleDef pymyarray_module = {\n",
    "    PyModuleDef_HEAD_INIT,\n",
    "    \"pymyarray\",\n",
    "    \"Extension type for myarray object.\",\n",
    "    -1,\n",
    "    NULL, NULL, NULL, NULL, NULL\n",
    "};\n",
    "\n",
    "PyMODINIT_FUNC\n",
    "PyInit_pymyarray(void) \n",
    "{\n",
    "    PyObject* m;\n",
    "\n",
    "    PyMyArrayType.tp_new = PyType_GenericNew;\n",
    "    if (PyType_Ready(&PyMyArrayType) < 0)\n",
    "        return NULL;\n",
    "\n",
    "    m = PyModule_Create(&pymyarray_module);\n",
    "    if (m == NULL)\n",
    "        return NULL;\n",
    "\n",
    "    Py_INCREF(&PyMyArrayType);\n",
    "    PyModule_AddObject(m, \"PyMyArray\", (PyObject *)&PyMyArrayType);\n",
    "    return m;\n",
    "}"
   ]
  },
  {
   "cell_type": "markdown",
   "metadata": {},
   "source": [
    "That's all there is to it!  Now we'll create a quick setup script and run it to compile the module in-place:"
   ]
  },
  {
   "cell_type": "code",
   "execution_count": 10,
   "metadata": {
    "collapsed": false
   },
   "outputs": [
    {
     "name": "stdout",
     "output_type": "stream",
     "text": [
      "Overwriting setup.py\n"
     ]
    }
   ],
   "source": [
    "%%file setup.py\n",
    "from distutils.core import setup, Extension\n",
    "setup(ext_modules=[Extension(\"pymyarray\", [\"pymyarray.c\"])])"
   ]
  },
  {
   "cell_type": "code",
   "execution_count": 11,
   "metadata": {
    "collapsed": false
   },
   "outputs": [
    {
     "name": "stdout",
     "output_type": "stream",
     "text": [
      "running build_ext\n",
      "building 'pymyarray' extension\n",
      "/usr/bin/clang -fno-strict-aliasing -DNDEBUG -g -fwrapv -O3 -Wall -Wstrict-prototypes -I/Users/jakevdp/anaconda/envs/py3k/include -arch x86_64 -I/Users/jakevdp/anaconda/envs/py3k/include/python3.3m -c pymyarray.c -o build/temp.macosx-10.5-x86_64-3.3/pymyarray.o\n",
      "/usr/bin/clang -bundle -undefined dynamic_lookup -L/Users/jakevdp/anaconda/envs/py3k/lib -arch x86_64 build/temp.macosx-10.5-x86_64-3.3/pymyarray.o -L/Users/jakevdp/anaconda/envs/py3k/lib -o /Users/jakevdp/Opensource/bufint/pymyarray.so\n"
     ]
    }
   ],
   "source": [
    "!python setup.py build_ext --inplace"
   ]
  },
  {
   "cell_type": "markdown",
   "metadata": {},
   "source": [
    "Finally, we can import our new module and create a ``MyArray`` object from Python and see what we have:"
   ]
  },
  {
   "cell_type": "code",
   "execution_count": 12,
   "metadata": {
    "collapsed": false
   },
   "outputs": [
    {
     "name": "stdout",
     "output_type": "stream",
     "text": [
      "[ 0 1 2 3 4 5 6 7 8 9 ]\n"
     ]
    }
   ],
   "source": [
    "import pymyarray\n",
    "arr = pymyarray.PyMyArray(10)\n",
    "print(arr)"
   ]
  },
  {
   "cell_type": "markdown",
   "metadata": {},
   "source": [
    "Yes! It worked!\n",
    "\n",
    "But what if we want to use this with NumPy?  It turns out that we're out of luck:"
   ]
  },
  {
   "cell_type": "code",
   "execution_count": 13,
   "metadata": {
    "collapsed": false
   },
   "outputs": [
    {
     "name": "stdout",
     "output_type": "stream",
     "text": [
      "()\n"
     ]
    }
   ],
   "source": [
    "import numpy as np\n",
    "nparr = np.asarray(arr)\n",
    "print(nparr.shape)"
   ]
  },
  {
   "cell_type": "markdown",
   "metadata": {},
   "source": [
    "NumPy doesn't know what to do with this object, so it just creates a zero-dimensional array (i.e. a scalar), with a value equal to this object. This is not what we want, and addressing this issue is where the Buffer Protocol comes in."
   ]
  },
  {
   "cell_type": "markdown",
   "metadata": {},
   "source": [
    "### Adding the Buffer Protocol"
   ]
  },
  {
   "cell_type": "markdown",
   "metadata": {},
   "source": [
    "To add the buffer protocol, we're going to have to re-write most of the above code, adding some specific functionality that NumPy and other tools know how to interface with.  The buffer protocol in Python is basically structure which defines a very flexible interface to an offset & strided multi-dimensional array.  From the [CPython source](https://github.com/python/cpython/blob/master/Include/object.h#L178-191), we can see what it looks like:\n",
    "\n",
    "``` C\n",
    "typedef struct bufferinfo{\n",
    "    void *buf;\n",
    "    PyObject *obj;        /* owned reference */\n",
    "    Py_ssize_t len;\n",
    "    Py_ssize_t itemsize;\n",
    "    int readonly;\n",
    "    int ndim;\n",
    "    char *format;\n",
    "    Py_ssize_t *shape;\n",
    "    Py_ssize_t *strides;\n",
    "    Py_ssize_t *suboffsets;\n",
    "    void *internal;\n",
    "}Py_buffer;\n",
    "```\n",
    "\n",
    "What the buffer interface does is allow you to define a function which constructs a struct like this that points to your particular data. We see that the array can be multi-dimensional, it can have arbitrary NumPy-style strides along each dimension, as well as arbitrary [PIL](http://www.pythonware.com/products/pil/)-style suboffsets for each dimension.\n",
    "\n",
    "For our simple 1D array example, we won't be using the full extent of this interface, but it's an easy extension of what we're doing here.  Let's create a ``pymyarray2`` module, copying and pasting much of the above code, and adding the buffer protocol hooks along the way:"
   ]
  },
  {
   "cell_type": "code",
   "execution_count": 14,
   "metadata": {
    "collapsed": false
   },
   "outputs": [
    {
     "name": "stdout",
     "output_type": "stream",
     "text": [
      "Overwriting pymyarray2.c\n"
     ]
    }
   ],
   "source": [
    "%%file pymyarray2.c\n",
    "#include <Python.h>\n",
    "#include \"mylib.c\"\n",
    "\n",
    "/* This is where we define the PyMyArray object structure */\n",
    "typedef struct {\n",
    "    PyObject_HEAD\n",
    "    /* Type-specific fields go below. */\n",
    "    MyArray arr;\n",
    "} PyMyArray;\n",
    "\n",
    "\n",
    "/* This is the __init__ function, implemented in C */\n",
    "static int\n",
    "PyMyArray_init(PyMyArray *self, PyObject *args, PyObject *kwds)\n",
    "{\n",
    "    // init may have already been called\n",
    "    if (self->arr.arr != NULL);\n",
    "        deallocate_MyArray(&self->arr);\n",
    "\n",
    "    int length = 0;\n",
    "    static char *kwlist[] = {\"length\", NULL};\n",
    "    if (! PyArg_ParseTupleAndKeywords(args, kwds, \"|i\", kwlist, &length))\n",
    "        return -1;\n",
    "\n",
    "    if (length < 0)\n",
    "        length = 0;\n",
    "\n",
    "    initialize_MyArray(&self->arr, length);\n",
    "\n",
    "    return 0;\n",
    "}\n",
    "\n",
    "\n",
    "/* this function is called when the object is deallocated */\n",
    "static void\n",
    "PyMyArray_dealloc(PyMyArray* self)\n",
    "{\n",
    "    deallocate_MyArray(&self->arr);\n",
    "    Py_TYPE(self)->tp_free((PyObject*)self);\n",
    "}\n",
    "\n",
    "\n",
    "/* This function returns the string representation of our object */\n",
    "static PyObject *\n",
    "PyMyArray_str(PyMyArray * self)\n",
    "{\n",
    "  char* s = stringify(&self->arr, 10);\n",
    "  PyObject* ret = PyUnicode_FromString(s);\n",
    "  free(s);\n",
    "  return ret;\n",
    "}\n",
    "\n",
    "/* Here is the buffer interface function */\n",
    "static int\n",
    "PyMyArray_getbuffer(PyObject *obj, Py_buffer *view, int flags)\n",
    "{\n",
    "  if (view == NULL) {\n",
    "    PyErr_SetString(PyExc_ValueError, \"NULL view in getbuffer\");\n",
    "    return -1;\n",
    "  }\n",
    "\n",
    "  PyMyArray* self = (PyMyArray*)obj;\n",
    "  view->obj = (PyObject*)self;\n",
    "  view->buf = (void*)self->arr.arr;\n",
    "  view->len = self->arr.length * sizeof(int);\n",
    "  view->readonly = 0;\n",
    "  view->itemsize = sizeof(int);\n",
    "  view->format = \"i\";  // integer\n",
    "  view->ndim = 1;\n",
    "  view->shape = &self->arr.length;  // length-1 sequence of dimensions\n",
    "  view->strides = &view->itemsize;  // for the simple case we can do this\n",
    "  view->suboffsets = NULL;\n",
    "  view->internal = NULL;\n",
    "\n",
    "  Py_INCREF(self);  // need to increase the reference count\n",
    "  return 0;\n",
    "}\n",
    "\n",
    "static PyBufferProcs PyMyArray_as_buffer = {\n",
    "  // this definition is only compatible with Python 3.3 and above\n",
    "  (getbufferproc)PyMyArray_getbuffer,\n",
    "  (releasebufferproc)0,  // we do not require any special release function\n",
    "};\n",
    "\n",
    "\n",
    "/* Here is the type structure: we put the above functions in the appropriate place\n",
    "   in order to actually define the Python object type */\n",
    "static PyTypeObject PyMyArrayType = {\n",
    "    PyVarObject_HEAD_INIT(NULL, 0)\n",
    "    \"pymyarray.PyMyArray\",        /* tp_name */\n",
    "    sizeof(PyMyArray),            /* tp_basicsize */\n",
    "    0,                            /* tp_itemsize */\n",
    "    (destructor)PyMyArray_dealloc,/* tp_dealloc */\n",
    "    0,                            /* tp_print */\n",
    "    0,                            /* tp_getattr */\n",
    "    0,                            /* tp_setattr */\n",
    "    0,                            /* tp_reserved */\n",
    "    (reprfunc)PyMyArray_str,      /* tp_repr */\n",
    "    0,                            /* tp_as_number */\n",
    "    0,                            /* tp_as_sequence */\n",
    "    0,                            /* tp_as_mapping */\n",
    "    0,                            /* tp_hash  */\n",
    "    0,                            /* tp_call */\n",
    "    (reprfunc)PyMyArray_str,      /* tp_str */\n",
    "    0,                            /* tp_getattro */\n",
    "    0,                            /* tp_setattro */\n",
    "    &PyMyArray_as_buffer,         /* tp_as_buffer */\n",
    "    Py_TPFLAGS_DEFAULT,           /* tp_flags */\n",
    "    \"PyMyArray object\",           /* tp_doc */\n",
    "    0,                            /* tp_traverse */\n",
    "    0,                            /* tp_clear */\n",
    "    0,                            /* tp_richcompare */\n",
    "    0,                            /* tp_weaklistoffset */\n",
    "    0,                            /* tp_iter */\n",
    "    0,                            /* tp_iternext */\n",
    "    0,                            /* tp_methods */\n",
    "    0,                            /* tp_members */\n",
    "    0,                            /* tp_getset */\n",
    "    0,                            /* tp_base */\n",
    "    0,                            /* tp_dict */\n",
    "    0,                            /* tp_descr_get */\n",
    "    0,                            /* tp_descr_set */\n",
    "    0,                            /* tp_dictoffset */\n",
    "    (initproc)PyMyArray_init,     /* tp_init */\n",
    "};\n",
    "\n",
    "/* now we initialize the Python module which contains our new object: */\n",
    "static PyModuleDef pymyarray2_module = {\n",
    "    PyModuleDef_HEAD_INIT,\n",
    "    \"pymyarray2\",\n",
    "    \"Extension type for myarray object.\",\n",
    "    -1,\n",
    "    NULL, NULL, NULL, NULL, NULL\n",
    "};\n",
    "\n",
    "PyMODINIT_FUNC\n",
    "PyInit_pymyarray2(void) \n",
    "{\n",
    "    PyObject* m;\n",
    "\n",
    "    PyMyArrayType.tp_new = PyType_GenericNew;\n",
    "    if (PyType_Ready(&PyMyArrayType) < 0)\n",
    "        return NULL;\n",
    "\n",
    "    m = PyModule_Create(&pymyarray2_module);\n",
    "    if (m == NULL)\n",
    "        return NULL;\n",
    "\n",
    "    Py_INCREF(&PyMyArrayType);\n",
    "    PyModule_AddObject(m, \"PyMyArray\", (PyObject *)&PyMyArrayType);\n",
    "    return m;\n",
    "}"
   ]
  },
  {
   "cell_type": "code",
   "execution_count": 15,
   "metadata": {
    "collapsed": false
   },
   "outputs": [
    {
     "name": "stdout",
     "output_type": "stream",
     "text": [
      "Overwriting setup2.py\n"
     ]
    }
   ],
   "source": [
    "%%file setup2.py\n",
    "from distutils.core import setup, Extension\n",
    "setup(ext_modules=[Extension(\"pymyarray2\", [\"pymyarray2.c\"])])"
   ]
  },
  {
   "cell_type": "code",
   "execution_count": 16,
   "metadata": {
    "collapsed": false
   },
   "outputs": [
    {
     "name": "stdout",
     "output_type": "stream",
     "text": [
      "running build_ext\n",
      "building 'pymyarray2' extension\n",
      "/usr/bin/clang -fno-strict-aliasing -DNDEBUG -g -fwrapv -O3 -Wall -Wstrict-prototypes -I/Users/jakevdp/anaconda/envs/py3k/include -arch x86_64 -I/Users/jakevdp/anaconda/envs/py3k/include/python3.3m -c pymyarray2.c -o build/temp.macosx-10.5-x86_64-3.3/pymyarray2.o\n",
      "/usr/bin/clang -bundle -undefined dynamic_lookup -L/Users/jakevdp/anaconda/envs/py3k/lib -arch x86_64 build/temp.macosx-10.5-x86_64-3.3/pymyarray2.o -L/Users/jakevdp/anaconda/envs/py3k/lib -o /Users/jakevdp/Opensource/bufint/pymyarray2.so\n"
     ]
    }
   ],
   "source": [
    "!python setup2.py build_ext --inplace"
   ]
  },
  {
   "cell_type": "markdown",
   "metadata": {},
   "source": [
    "Let's try it out, and see if numpy detects the correct shape"
   ]
  },
  {
   "cell_type": "code",
   "execution_count": 17,
   "metadata": {
    "collapsed": false
   },
   "outputs": [
    {
     "name": "stdout",
     "output_type": "stream",
     "text": [
      "(10,)\n"
     ]
    }
   ],
   "source": [
    "import pymyarray2\n",
    "arr = pymyarray2.PyMyArray(10)\n",
    "nparr = np.asarray(arr)\n",
    "print(nparr.shape)"
   ]
  },
  {
   "cell_type": "markdown",
   "metadata": {},
   "source": [
    "It worked!\n",
    "\n",
    "We can now print the array and make sure it has the data we hope for:"
   ]
  },
  {
   "cell_type": "code",
   "execution_count": 18,
   "metadata": {
    "collapsed": false
   },
   "outputs": [
    {
     "name": "stdout",
     "output_type": "stream",
     "text": [
      "[0 1 2 3 4 5 6 7 8 9]\n"
     ]
    }
   ],
   "source": [
    "print(nparr)"
   ]
  },
  {
   "cell_type": "markdown",
   "metadata": {},
   "source": [
    "Finally, we'll double-check that the two objects are really pointing to the same data array. We'll change the value of one of the elements in NumPy, and make sure the change is reflected in our ``PyMyArray`` object:"
   ]
  },
  {
   "cell_type": "code",
   "execution_count": 19,
   "metadata": {
    "collapsed": false
   },
   "outputs": [
    {
     "name": "stdout",
     "output_type": "stream",
     "text": [
      "[  0   1   2   3   4 555   6   7   8   9]\n"
     ]
    }
   ],
   "source": [
    "nparr[5] = 555\n",
    "print(nparr)"
   ]
  },
  {
   "cell_type": "code",
   "execution_count": 20,
   "metadata": {
    "collapsed": false
   },
   "outputs": [
    {
     "name": "stdout",
     "output_type": "stream",
     "text": [
      "[ 0 1 2 3 4 555 6 7 8 9 ]\n"
     ]
    }
   ],
   "source": [
    "print(arr)"
   ]
  },
  {
   "cell_type": "markdown",
   "metadata": {},
   "source": [
    "Success!"
   ]
  },
  {
   "cell_type": "markdown",
   "metadata": {},
   "source": [
    "### Exploring the Buffer Protocol Code"
   ]
  },
  {
   "cell_type": "markdown",
   "metadata": {},
   "source": [
    "Let's take a look at the code that was added to the ``pymyarray2`` example.  It's fairly straightforward, actually: we first define a function which builds a buffer from the object:\n",
    "\n",
    "``` C\n",
    "/* Here is the buffer interface function */\n",
    "static int\n",
    "PyMyArray_getbuffer(PyObject *obj, Py_buffer *view, int flags)\n",
    "{\n",
    "  if (view == NULL) {\n",
    "    PyErr_SetString(PyExc_ValueError, \"NULL view in getbuffer\");\n",
    "    return -1;\n",
    "  }\n",
    "\n",
    "  PyMyArray* self = (PyMyArray*)obj;\n",
    "  view->obj = (PyObject*)self;\n",
    "  view->buf = (void*)self->arr.arr;\n",
    "  view->len = self->arr.length * sizeof(int);\n",
    "  view->readonly = 0;\n",
    "  view->itemsize = sizeof(int);\n",
    "  view->format = \"i\";  // integer\n",
    "  view->ndim = 1;\n",
    "  view->shape = &self->arr.length;  // length-1 sequence of dimensions\n",
    "  view->strides = &view->itemsize;  // for the simple case we can do this\n",
    "  view->suboffsets = NULL;\n",
    "  view->internal = NULL;\n",
    "\n",
    "  Py_INCREF(self);  // need to increase the reference count\n",
    "  return 0;\n",
    "}\n",
    "```\n",
    "\n",
    "If you're used to working with multi-dimensional arrays in C, the elements of the structure should be pretty self-explanatory. Here we're using integers so we've used the ``\"i\"`` format code. The item formats are extremely flexible: you can basically use any of the codes within Python's [``struct``](https://docs.python.org/3/library/struct.html) module, which gives you nearly endless possibilities for passing around structured data. For more complicated arrays with multiple dimensions, you may have to allocate arrays for the shape, strides, etc. In that case, it's possible to define a ``release_buffer`` function which deallocates these arrays when the buffer is no longer needed.\n",
    "\n",
    "Finally, we put this function in a ``PyBufferProcs`` structure,\n",
    "\n",
    "``` C\n",
    "static PyBufferProcs PyMyArray_as_buffer = {\n",
    "  // this definition is only compatible with Python 3.3 and above\n",
    "  (getbufferproc)PyMyArray_getbuffer,\n",
    "  (releasebufferproc)0,  // we do not require any special release function\n",
    "};\n",
    "```\n",
    "\n",
    "And then include this structure in the Python Type definition. \n",
    "\n",
    "``` C\n",
    "static PyTypeObject PyMyArrayType = {\n",
    "    ...\n",
    "    &PyMyArray_as_buffer,         /* tp_as_buffer */\n",
    "    ...\n",
    "}\n",
    "```\n",
    "\n",
    "Simple, right?"
   ]
  },
  {
   "cell_type": "markdown",
   "metadata": {},
   "source": [
    "## Conclusion"
   ]
  },
  {
   "cell_type": "markdown",
   "metadata": {},
   "source": [
    "This was just a simple example of defining the buffer protocol for an object in CPython. It's exactly the kind of description I *wished* I had had as I tried to figure out how this stuff worked.  I hope this is as helpful to you as it would have been to me!\n",
    "\n",
    "Now that I've figured it out, my hope is to apply what I've learned to building an interface between [Julia](http://julialang.org/) arrays and Python objects. We'll see how far I get on that front...\n",
    "\n",
    "Thanks for reading, and happy coding!"
   ]
  },
  {
   "cell_type": "markdown",
   "metadata": {},
   "source": [
    "*This post was composed within an IPython notebook; you can view a static version [here](http://nbviewer.ipython.org/url/jakevdp.github.com/downloads/notebooks/BufferProtocol.ipynb) or download the full source [here](http://jakevdp.github.com/downloads/notebooks/BufferProtocol.ipynb).*"
   ]
  }
 ],
 "metadata": {
  "anaconda-cloud": {},
  "kernelspec": {
   "display_name": "Python [default]",
   "language": "python",
   "name": "python3"
  },
  "language_info": {
   "codemirror_mode": {
    "name": "ipython",
    "version": 3
   },
   "file_extension": ".py",
   "mimetype": "text/x-python",
   "name": "python",
   "nbconvert_exporter": "python",
   "pygments_lexer": "ipython3",
   "version": "3.5.1"
  }
 },
 "nbformat": 4,
 "nbformat_minor": 0
}
